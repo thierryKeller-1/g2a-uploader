{
 "cells": [
  {
   "cell_type": "code",
   "execution_count": 45,
   "metadata": {},
   "outputs": [],
   "source": [
    "import pandas as pd\n",
    "from datetime import datetime"
   ]
  },
  {
   "cell_type": "code",
   "execution_count": 46,
   "metadata": {},
   "outputs": [],
   "source": [
    "data_source = pd.read_csv('./booking_1j_cleaned_05_02_2024_.csv')\n",
    "website = \"booking\" #or maeva or camping\n",
    "output_name = \"booking_test.txt\" # nom du fichier output"
   ]
  },
  {
   "cell_type": "code",
   "execution_count": 47,
   "metadata": {},
   "outputs": [],
   "source": [
    "def create_tag(website:str) -> str:\n",
    "    return f\"{website}-{datetime.now().strftime('%Y%m%d%H%M%S%f')}\"\n",
    "\n",
    "def remove_char(char:object):\n",
    "    return str(char).replace(',', '-').replace('&', ' and ')"
   ]
  },
  {
   "cell_type": "code",
   "execution_count": 48,
   "metadata": {},
   "outputs": [],
   "source": [
    "def format_data(data:list, website:str) -> object:\n",
    "    formated_data = \"\"\n",
    "    columns = [\n",
    "        'web-scraper-order',\n",
    "        'date_price',\n",
    "        'date_debut',\n",
    "        'date_fin',\n",
    "        'prix_init',\n",
    "        'prix_actuel',\n",
    "        'typologie',\n",
    "        'n_offre',\n",
    "        'nom',\n",
    "        'localite',\n",
    "        'date_debut-jour',\n",
    "        'Nb semaines',\n",
    "        'cle_station',\n",
    "        'nom_station',\n",
    "    ]\n",
    "\n",
    "    for x in range(0, len(data)):\n",
    "        result = \"\"\n",
    "\n",
    "        for col in columns:\n",
    "            try:\n",
    "                result += f\"{remove_char(data[x][col])},\"\n",
    "            except KeyError:\n",
    "                result += \",\"\n",
    "        \n",
    "        try:\n",
    "            url = data[x]['url'].replace('&', '$')[8:]\n",
    "            result += f'{url},'\n",
    "        except KeyError:\n",
    "            result += \",\"\n",
    "\n",
    "        result += create_tag(website)\n",
    "\n",
    "        if len(result.split(',')) == 16:\n",
    "            formated_data += f\"{result};\\n\"\n",
    "        \n",
    "        else:\n",
    "            with open('uncorrect.json', 'a', encoding='utf-8') as openfile:\n",
    "                openfile.write(f\"{result};\\n\")\n",
    "\n",
    "    return formated_data[:-1]"
   ]
  },
  {
   "cell_type": "code",
   "execution_count": 49,
   "metadata": {},
   "outputs": [],
   "source": [
    "def write_csv(data:str) -> None:\n",
    "    \n",
    "    with open(output_name, 'a') as openfile:\n",
    "        openfile.write(f\"{data}\\n\")"
   ]
  },
  {
   "cell_type": "code",
   "execution_count": 50,
   "metadata": {},
   "outputs": [],
   "source": [
    "data_to_format = []\n",
    "\n",
    "for x in range(len(data_source)):\n",
    "    new_data = data_source.iloc[x].fillna('').to_dict()\n",
    "    data_to_format.append(new_data)\n",
    "\n",
    "post_data_formated = format_data(data_to_format, website)"
   ]
  },
  {
   "cell_type": "code",
   "execution_count": 51,
   "metadata": {},
   "outputs": [
    {
     "data": {
      "text/plain": [
       "\"1693649134-1,05/02/2024,05/02/2024,06/02/2024,175,175,Chambre Quadruple,,Hôtel le Christiania,Arêches,,6,,,,booking-20240219145351051353;1693649134-2,05/02/2024,05/02/2024,06/02/2024,150,120,Chambre Double - Vue sur Montagne,,Hôtel de la Roche,Beaufort,,6,,,,booking-20240219145351051353;1693649134-3,05/02/2024,05/02/2024,06/02/2024,127,127,Chambre Triple Confort avec Douche,,Hôtel du Grand-Mont,Beaufort,,6,,,,booking-20240219145351051353;1693649134-4,05/02/2024,05/02/2024,06/02/2024,141,141,Chambre Triple (3 Adultes),,Hôtel Viallet,Arêches,,6,,,,booking-20240219145351051353;1693649134-5,05/02/2024,05/02/2024,06/02/2024,221,221,Chambre Double Supérieure,,Chalet Hôtel du Mont-Charvin  and  Spa,Crest-Voland,,6,,,,booking-20240219145351051353;1693649134-6,05/02/2024,05/02/2024,06/02/2024,115,115,Chambre Double,,Chalet Hotel Le Mont Bisanne,Crest-Voland,,6,,,,booking-20240219145351051353;1693649134-7,05/02/2024,05/02/2024,06/02/2024,102,102,Chambre Double - Vue sur Montagne,,Hotel Le Tetras,Notre-Dame-de-Bellecombe,,6,,,,booking-20240219145351051353;1693649134-8,05/02/2024,05/02/2024,06/02/2024,636,636,Chambre Double Confort,,Coeur de Megève,Megève,,6,,,,booking-20240219145351051353;1693649134-9,05/02/2024,05/02/2024,06/02/2024,261,261,Chambre Double ou Lits Jumeaux,,Hôtel La Grange d'Arly,Megève,,6,,,,booking-20240219145351052349;1693649134-10,05/02/2024,05/02/2024,06/02/2024,290,290,Chambre Double Supérieure - Dernier Étage,,Au Coin Du Feu,Megève,,6,,,,booking-20240219145351052349;1693649134-11,05/02/2024,05/02/2024,06/02/2024,181,181,Chambre Quadruple Standard,,Hôtel Vacances Bleues Les Chalets du Prariand,Megève,,6,,,,booking-20240219145351052349;1693649134-12,05/02/2024,05/02/2024,06/02/2024,1026,720,Chambre Double Classique,,L'Alpaga- a Beaumier hotel,Megève,,6,,,,booking-20240219145351052349\""
      ]
     },
     "execution_count": 51,
     "metadata": {},
     "output_type": "execute_result"
    }
   ],
   "source": [
    "post_data_formated"
   ]
  },
  {
   "cell_type": "code",
   "execution_count": 52,
   "metadata": {},
   "outputs": [
    {
     "name": "stdout",
     "output_type": "stream",
     "text": [
      "  ==> data formatted!\n"
     ]
    }
   ],
   "source": [
    "write_csv(post_data_formated)\n",
    "print(\"  ==> data formatted!\")"
   ]
  }
 ],
 "metadata": {
  "kernelspec": {
   "display_name": "Python 3",
   "language": "python",
   "name": "python3"
  },
  "language_info": {
   "codemirror_mode": {
    "name": "ipython",
    "version": 3
   },
   "file_extension": ".py",
   "mimetype": "text/x-python",
   "name": "python",
   "nbconvert_exporter": "python",
   "pygments_lexer": "ipython3",
   "version": "3.11.3"
  }
 },
 "nbformat": 4,
 "nbformat_minor": 2
}
